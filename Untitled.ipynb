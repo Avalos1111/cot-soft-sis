{
 "cells": [
  {
   "cell_type": "code",
   "execution_count": 3,
   "id": "58f2157a-5048-44d8-a438-39a846877381",
   "metadata": {},
   "outputs": [],
   "source": [
    "class abuelo:\n",
    "    pass\n",
    "class mango1(abuelo):\n",
    "    pass\n",
    "class piña2:\n",
    "    pass\n",
    "class mora3(mango1, piña2):\n",
    "    pass\n",
    "    "
   ]
  }
 ],
 "metadata": {
  "kernelspec": {
   "display_name": "Python [conda env:base] *",
   "language": "python",
   "name": "conda-base-py"
  },
  "language_info": {
   "codemirror_mode": {
    "name": "ipython",
    "version": 3
   },
   "file_extension": ".py",
   "mimetype": "text/x-python",
   "name": "python",
   "nbconvert_exporter": "python",
   "pygments_lexer": "ipython3",
   "version": "3.12.7"
  }
 },
 "nbformat": 4,
 "nbformat_minor": 5
}
